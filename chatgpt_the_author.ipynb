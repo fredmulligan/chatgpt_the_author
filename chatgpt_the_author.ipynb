{
 "cells": [
  {
   "cell_type": "code",
   "execution_count": 18,
   "id": "9017270c-61e9-47db-bbd7-ac3fb5de9556",
   "metadata": {},
   "outputs": [],
   "source": [
    "import openai\n",
    "\n",
    "\n"
   ]
  },
  {
   "cell_type": "markdown",
   "id": "5800f72d-3b23-4ca7-a12e-8147ab2a6566",
   "metadata": {},
   "source": [
    "### Set up the story idea"
   ]
  },
  {
   "cell_type": "code",
   "execution_count": 82,
   "id": "d9cb2e89-749d-459d-8cbe-596a5e748431",
   "metadata": {},
   "outputs": [],
   "source": [
    "movie_maker= (f\"You are a brilliant movie maker who has had an illustrious career, \"\n",
    "              f\"you are getting old but want to make one final masterpiece before you die.\")"
   ]
  },
  {
   "cell_type": "code",
   "execution_count": 83,
   "id": "565324a9-8c37-4ede-8d2d-75cfdb67338b",
   "metadata": {},
   "outputs": [],
   "source": [
    "movie_context=(f\"Make it an odyssey about frontier time in the old American west. \"\n",
    "               f\"America's manifest destiny and buffalo hunting are major themes. \"\n",
    "               f\"There are scenes where the characters get caught up in the bloodshed and frenzy of buffallo hunting. \"\n",
    "               f\"Feel free to swear and curse at any time. It's a movie for adults.\")\n",
    "\n",
    "#chatGPT acts as a movie maker and generates a story idea with the context provided by the user\n",
    "first_story_idea = openai.ChatCompletion.create(\n",
    "            model=\"gpt-3.5-turbo\",\n",
    "            messages=[\n",
    "                {\"role\": \"system\", \"content\": movie_maker},\n",
    "                {\"role\": \"user\", \"content\": f\"Your task is to write a story idea. \"\n",
    "                                            f\"{movie_context} \"\n",
    "                                            },\n",
    "            ]\n",
    "        )['choices'][0]['message']['content']                      \n",
    "\n"
   ]
  },
  {
   "cell_type": "markdown",
   "id": "2476bb8b-cc10-4801-b9a5-0eaa7a4b1b8f",
   "metadata": {},
   "source": [
    "### Using adversarial techniques with chatGPT taking on multiple personas to critique and improve the story idea"
   ]
  },
  {
   "cell_type": "code",
   "execution_count": 88,
   "id": "d13b8b63-90e0-49bd-b749-289cfaef4da8",
   "metadata": {},
   "outputs": [],
   "source": [
    "\n",
    "first_critic=\"You are a long time hollywood producer. You have an eye for context and overall meaning.\"\n",
    "second_critic=(f\"You are a long time hollywood critic. \"\n",
    "               f\"You have a particular keen eye for detail and want to flesh out some of the story.\")"
   ]
  },
  {
   "cell_type": "code",
   "execution_count": 85,
   "id": "cfd37094-eacb-4c76-a4db-65d35d6db6d3",
   "metadata": {},
   "outputs": [],
   "source": [
    "def critiquing(role_of_critic, type_of_content, content):\n",
    "\n",
    "\n",
    "\n",
    "    critique = openai.ChatCompletion.create(\n",
    "                model=\"gpt-3.5-turbo\",\n",
    "                messages=[\n",
    "                    {\"role\": \"system\", \"content\": role_of_critic},\n",
    "                    {\"role\": \"user\", \"content\": f\"Your best friend and long time partner has written the following {type_of_content}: {content}\"\n",
    "                                                f\"Your task is to critique your colleague's story idea and title.\"\n",
    "                                                f\"You are honest, not just suggesting things for the sake of it, but actively trying to improve the {type_of_content}.\"\n",
    "                                                f\"If you do critique anything offer a better suggestion, don't just leave it as a criticism.\"},\n",
    "                ]\n",
    "            )  \n",
    "    return critique['choices'][0]['message']['content']  \n",
    "\n"
   ]
  },
  {
   "cell_type": "code",
   "execution_count": 93,
   "id": "0f447f48-e753-40da-aed9-73e131f5a737",
   "metadata": {},
   "outputs": [],
   "source": [
    "first_story_critques=\"\"\n",
    "type_of_content='story idea'\n",
    "first_story_critques=(f\"{first_story_critques} Here's one critique: {critiquing(first_critic,type_of_content,first_story_idea)} \\n\\n\")\n",
    "first_story_critques=(f\"{first_story_critques} Here's another critique: {critiquing(second_critic,type_of_content,first_story_idea)}\")\n",
    "\n"
   ]
  },
  {
   "cell_type": "code",
   "execution_count": 97,
   "id": "fc12e9c8-46ba-467a-9fa5-97ed016dfa83",
   "metadata": {},
   "outputs": [],
   "source": [
    "personal_review=\"The last hunt is a bit cliched for a name, I think you should change it to the 'End of the Wild'\""
   ]
  },
  {
   "cell_type": "code",
   "execution_count": 99,
   "id": "5ec3ad01-1dbe-49cb-a98d-0268591167bf",
   "metadata": {},
   "outputs": [],
   "source": [
    "\n",
    "\n",
    "number_of_critiques=len(first_story_critques)\n",
    "\n",
    "post_critics_first_story = openai.ChatCompletion.create(\n",
    "            model=\"gpt-3.5-turbo\",\n",
    "            messages=[\n",
    "                {\"role\": \"system\", \"content\": movie_maker},\n",
    "                {\"role\": \"user\", \"content\": f\"You've wrttien the following story ides: {first_story_idea}\"\n",
    "                                            f\"Your best friend gave this advice, and you trust them completely {personal_review}\"\n",
    "                                            f\"You've also asked {number_of_critiques} of your other friends to give feedback, who you also respect and admire.\"\n",
    "                                            f\"Here are there critiques: {first_story_critques} \"\n",
    "                                            f\"Can you rewrite your story idea, taking into consideration the critiques, but if you feel they don't improve it, don't include them, they were just trying to give helpful advice\"\n",
    "                                            f\"you should note the original context of the film: {movie_context} \"},\n",
    "            ]\n",
    "        )['choices'][0]['message']['content']                      \n",
    "\n"
   ]
  },
  {
   "cell_type": "code",
   "execution_count": 174,
   "id": "af18f11f-e6ca-4f5d-9a49-fa788b359d0c",
   "metadata": {},
   "outputs": [
    {
     "data": {
      "text/plain": [
       "\"Title: End of the Wild\\n\\nThe story follows Abe, a seasoned buffalo hunter who is approaching the end of his career. Abe longs for one final adventure, and he sets out on a journey across the rugged terrain of the old American West with a group of skilled hunters, including his protégé, John. Their goal is to find the largest herd of buffalo they can to prove their worth as hunters and satisfy their thirst for adventure. \\n\\nAlong the way, the group encounters various obstacles, including treacherous weather conditions, dangerous wild animals, and native tribes, each with their own agenda and motivations. As they pursue the buffalo, tensions rise among the hunters, leading to violent outbursts and confrontations that challenge their bond. \\n\\nDespite the challenges, the hunters persevere, but the buffalo become harder to find, forcing them to push the limits of their skills and bravery. They face fierce competition from rival hunting parties and clashes with the native tribes whose lands they are encroaching upon. \\n\\nThe climax of the story is a final epic hunt where the hunters take on thousands of stampeding buffalo, caught up in the frenzy of the hunt and risking their lives to bring down the majestic beasts. However, the cost of the hunt is high, and the hunters must confront the harsh reality of their actions and come to terms with the price they've paid for their glory.\\n\\nThroughout the story, the themes of Manifest Destiny and the brutal nature of buffalo hunting are explored in a nuanced manner. The film portrays the societal pressures that led the characters to pursue buffalo hunting, their motivations, and the exploitative nature of expansionism. The characters are diverse, and their relationships and interactions are explored in depth.\\n\\nEnd of the Wild is a raw and unapologetic tale of the old American West, highlighting the brutality and violence inherent in the Manifest Destiny, and a reminder of the cost of expansionism. Featuring high-octane action and immersive cinematography, this movie is a fitting tribute to the final days of the frontier, and a testament to the spirit of adventure that continues to drive us forward.\""
      ]
     },
     "execution_count": 174,
     "metadata": {},
     "output_type": "execute_result"
    }
   ],
   "source": [
    "revised_outline=post_critics_first_story\n",
    "movie_title='End of the Wild'\n",
    "revised_outline"
   ]
  },
  {
   "cell_type": "markdown",
   "id": "d07345b5-987f-476e-802a-1439e6e4d650",
   "metadata": {},
   "source": [
    "### Generate character list and detailed descriptions"
   ]
  },
  {
   "cell_type": "code",
   "execution_count": 116,
   "id": "85391aeb-9554-48ed-b393-6c8e0f4947d8",
   "metadata": {},
   "outputs": [],
   "source": [
    "characters_string = openai.ChatCompletion.create(\n",
    "            model=\"gpt-3.5-turbo\",\n",
    "            messages=[\n",
    "                {\"role\": \"system\", \"content\": movie_maker},\n",
    "                {\"role\": \"user\", \"content\": f\"You've wrttien the following story ides: {revised_outline}\"\n",
    "                                            f\"Write a list of characters, each with names and a one sentence description of their roles. Split each description by an end of line token (\\n\\n)\"},\n",
    "            ]\n",
    "        )['choices'][0]['message']['content']                      \n"
   ]
  },
  {
   "cell_type": "code",
   "execution_count": 125,
   "id": "b17d4eb3-16b1-467d-a1b8-baac3f8409af",
   "metadata": {},
   "outputs": [],
   "source": [
    "list_of_characters = openai.ChatCompletion.create(\n",
    "            model=\"gpt-3.5-turbo\",\n",
    "            messages=[\n",
    "                {\"role\": \"system\", \"content\": movie_maker},\n",
    "                {\"role\": \"user\", \"content\": f\"You've wrttien the following story idea: {revised_outline}\"\n",
    "                                            f\"You've written a list of characters, each with names and a one sentence description of their roles:{characters_string}\"\n",
    "                                            f\"Without adding anything extra to the output, write a python list with only the characters names as elements.\"\n",
    "                                            f\"The output you produce will be fed into the eval function and turned into a real list\"},\n",
    "            ]\n",
    "        )['choices'][0]['message']['content'] \n",
    "list_of_characters=eval(list_of_characters)"
   ]
  },
  {
   "cell_type": "code",
   "execution_count": 130,
   "id": "9d9ed33b-a793-458d-9e0d-0fc1ce98b0dd",
   "metadata": {},
   "outputs": [
    {
     "name": "stdout",
     "output_type": "stream",
     "text": [
      "There are 10 main characters\n"
     ]
    },
    {
     "data": {
      "text/plain": [
       "['Abe',\n",
       " 'John',\n",
       " 'Ben',\n",
       " 'Sarah',\n",
       " 'Chief Red Hawk',\n",
       " 'Colonel White',\n",
       " 'William',\n",
       " 'James',\n",
       " 'Ruth',\n",
       " 'Gabriel']"
      ]
     },
     "execution_count": 130,
     "metadata": {},
     "output_type": "execute_result"
    }
   ],
   "source": [
    "print(f\"There are {len(list_of_characters)} main characters\")\n",
    "list_of_characters"
   ]
  },
  {
   "cell_type": "code",
   "execution_count": 5,
   "id": "a45ee3b3-95dd-4433-a585-2e36a645f345",
   "metadata": {},
   "outputs": [],
   "source": [
    "character_long_first=[]\n",
    "characters_string=''\n",
    "\n",
    "for i in range(len(characters)):\n",
    "    characters_string=characters_string+f\"{i+1}. {characters[i]}\""
   ]
  },
  {
   "cell_type": "code",
   "execution_count": 168,
   "id": "fef26b17-13f1-47ab-bf34-4636a1bcf02d",
   "metadata": {},
   "outputs": [],
   "source": [
    "character_dict={}\n",
    "for i in range(len(list_of_characters)):\n",
    "\n",
    "    character_long=openai.ChatCompletion.create(\n",
    "                model=\"gpt-3.5-turbo\",\n",
    "                messages=[\n",
    "                    {\"role\": \"system\", \"content\": movie_maker},\n",
    "                    {\"role\": \"user\", \"content\": f\"You've wrttien the following story ides: {revised_outline}\"\n",
    "                                                f\"You've developed the following character descriptions, {characters_string}\"\n",
    "                                                f\"You want to flesh out {list_of_characters[i]}\"\n",
    "                                                f\"Can you provide more detail, backstory and eccentricities to this character\"},\n",
    "                ]\n",
    "            )['choices'][0]['message']['content']\n",
    "    \n",
    "    character_dict[list_of_characters[i]]=character_long"
   ]
  },
  {
   "cell_type": "code",
   "execution_count": 179,
   "id": "45839b7b-7f72-418b-a033-25ca6358e46a",
   "metadata": {},
   "outputs": [
    {
     "name": "stdout",
     "output_type": "stream",
     "text": [
      "10\n"
     ]
    },
    {
     "data": {
      "text/plain": [
       "\"Abe is a grizzled veteran of the wild American frontier. He's spent his entire life hunting buffalo and exploring the rugged wilderness, and he's seen more than his share of danger and adventure. Over the years, he's taken on countless apprentices and passed down his knowledge of the land and the animals to the next generation. \\n\\nAbe is a man of few words, preferring to let his actions speak for themselves. He's known for his calm demeanor in the face of danger, and his ability to think on his feet in the most challenging of circumstances. Despite his advancing age, Abe is still in excellent physical shape, and his eyesight and aim are as sharp as ever. \\n\\nAs the story unfolds, we learn that Abe is seeking one final adventure because he knows he doesn't have much time left. He's facing his own mortality, and he wants to leave behind a lasting legacy by leading his protégé, John, and a group of talented hunters on a legendary hunt. Abe is driven by a deep sense of pride and identity, and he sees himself as the embodiment of the wild frontier. \\n\\nHowever, as the group encounters a series of obstacles and setbacks, we begin to see a more vulnerable side of Abe. He's haunted by memories of past hunts, and he struggles with the realization that his way of life is slowly disappearing. Beneath his gruff exterior, Abe is a man who's deeply connected to the land and its creatures, and he's aware that his own livelihood has contributed to the destruction of the wild buffalo herds. \\n\\nDespite these inner conflicts, Abe remains a formidable force throughout the film. He's fiercely protective of his protégé and his group, and he's willing to risk everything to bring down the biggest and strongest buffalo he can find. In the end, Abe is forced to confront the reality of his actions, and he realizes that the price of his glory has been far too high. \\n\\nAbe's journey is a complex and nuanced exploration of the American frontier and the people who inhabited it. Through his character, we see the bravery and tenacity required to survive in a harsh and unforgiving land, as well as the moral conflicts and contradictions that arise from the pursuit of Manifest Destiny. In the end, Abe's legacy is a testament to the enduring spirit of adventure that continues to inspire us all.\""
      ]
     },
     "execution_count": 179,
     "metadata": {},
     "output_type": "execute_result"
    }
   ],
   "source": [
    "print(len(character_dict))\n",
    "character_dict['Abe']\n"
   ]
  },
  {
   "cell_type": "markdown",
   "id": "9487ab71-b3cd-480c-b1d4-63fa7bbe4209",
   "metadata": {},
   "source": [
    "### Build a longer outline broken into the traditional 5 Act structure"
   ]
  },
  {
   "cell_type": "code",
   "execution_count": 139,
   "id": "8c6eb2ba-2dbf-40f2-8028-a8f42f1cb7bf",
   "metadata": {},
   "outputs": [],
   "source": [
    "longer_summary=openai.ChatCompletion.create(\n",
    "            model=\"gpt-3.5-turbo\",\n",
    "            messages=[\n",
    "                {\"role\": \"system\", \"content\": movie_maker},\n",
    "                {\"role\": \"user\", \"content\": f\"You've wrttien the following story ides: {revised_outline}\"\n",
    "                                            f\"You've developed a list of characters, {characters_string}\"\n",
    "                                            f\"You want to flesh it out into a longer outline that breaks the story up into the traditional five act structure\"},\n",
    "            ]\n",
    "        )['choices'][0]['message']['content']"
   ]
  },
  {
   "cell_type": "code",
   "execution_count": 145,
   "id": "b01e8cdd-cb49-44d1-81f3-a13d756f5e8c",
   "metadata": {},
   "outputs": [
    {
     "name": "stdout",
     "output_type": "stream",
     "text": [
      "\n",
      "\n",
      "ACT ONE:\n",
      "\n",
      "The opening scenes show Abe at home, an old man looking back on his life with a mixture of pride and nostalgia. He's ready for one final adventure, and he's determined to make it count. He assembles a group of skilled hunters, including his protégé John, to set out into the wilderness to find the largest herd of buffalo they can.\n",
      "\n",
      "ACT TWO:\n",
      "\n",
      "The hunters journey across the rugged terrain of the old American West, encountering various obstacles, including treacherous weather conditions, dangerous wild animals, and native tribes, each with their own agenda and motivations. Along the way, tensions rise among the hunters, leading to violent outbursts and confrontations that challenge their bond. They continue their pursuit of the buffalo, facing fierce competition from rival hunting parties and clashes with the native tribes whose lands they are encroaching upon.\n",
      "\n",
      "ACT THREE:\n",
      "\n",
      "As the group continues their hunt, the buffalo become harder to find, forcing them to push the limits of their skills and bravery. They finally locate a large herd, and the hunters engage in a fierce and dangerous hunt, risking their lives to bring down the majestic beasts. Despite the danger, the thrill of the hunt motivates them, and they continue to pursue their quarry.\n",
      "\n",
      "ACT FOUR:\n",
      "\n",
      "The climax of the story is a final epic hunt where the hunters take on thousands of stampeding buffalo, caught up in the frenzy of the hunt. However, the cost of the hunt is high, and the hunters must confront the harsh reality of their actions and come to terms with the price they've paid for their glory. Throughout this portion of the film, themes of Manifest Destiny and the brutal nature of buffalo hunting are explored in a nuanced manner.\n",
      "\n",
      "ACT FIVE:\n",
      "\n",
      "The film concludes with Abe, John, Sarah, and the other hunters returning home, facing the consequences of their actions. The native tribes are outraged by their encroachment, and the hunters must live with the guilt of taking so many lives for their own gain. The characters are diverse, and their relationships and interactions are explored in depth. End of the Wild is a raw and unapologetic tale of the old American West, highlighting the brutality and violence inherent in the Manifest Destiny, and a reminder of the cost of expansionism.\n",
      "6\n"
     ]
    }
   ],
   "source": [
    "act_list = longer_summary.split(\"ACT \")\n",
    "print(longer_summary)\n",
    "print(len(act_list))"
   ]
  },
  {
   "cell_type": "markdown",
   "id": "179b9849-2178-40b7-9f72-4d1ddae77d40",
   "metadata": {},
   "source": [
    "### Generate detailed descriptions of each ACT"
   ]
  },
  {
   "cell_type": "code",
   "execution_count": 248,
   "id": "61620597-3515-41e2-8ccd-79ffcf875c72",
   "metadata": {},
   "outputs": [],
   "source": [
    "longer_act_summary=[]\n",
    "for i in range(5):\n",
    "    longer_act_summary.append(openai.ChatCompletion.create(\n",
    "                model=\"gpt-3.5-turbo\",\n",
    "                messages=[\n",
    "                    {\"role\": \"system\", \"content\": movie_maker},\n",
    "                    {\"role\": \"user\", \"content\": f\"You've wrttien the following story ides: {revised_outline}\"\n",
    "                                                f\"You've develped a list of characters, {characters_string}\"\n",
    "                                                f\"You've written this summary of ACT {i+1}: {act_list[i+1]}\"\n",
    "                                                f\"Err away from cliche as much as you can.\"\n",
    "                                                f\"Write a longer outline of act {i+1}, flesh out the detail, include scenes, after this you will use it to create a full list of scense in the act and characters in each scene, so it needs to be quite detailed\"},\n",
    "                ]\n",
    "            )['choices'][0]['message']['content'])"
   ]
  },
  {
   "cell_type": "markdown",
   "id": "46b37478-5f8b-4021-9c35-dd3341b8dc81",
   "metadata": {},
   "source": [
    "### Bring the scenes to life"
   ]
  },
  {
   "cell_type": "code",
   "execution_count": 253,
   "id": "0b579ad9-db3a-43b8-9bba-854cce9d1e14",
   "metadata": {},
   "outputs": [],
   "source": [
    "#The following code generates a list of lists, each element of the first list corresponds to a act, and then the list inside of that is a description of the \n",
    "act_scenes=[]\n",
    "for i in range(5):\n",
    "    this_act_scenes=openai.ChatCompletion.create(\n",
    "                model=\"gpt-3.5-turbo\",\n",
    "                messages=[\n",
    "                    {\"role\": \"system\", \"content\": movie_maker},\n",
    "                    {\"role\": \"user\", \"content\": f\"You've wrttien the following story idea: {revised_outline}\\n\\n\"\n",
    "                                                f\"You've written this summary of act {i+1}: {longer_act_summary[i]} \\n\\n And here is the summary of the previous act {i} that you've already written:{longer_act_summary[i-1]} \\n\\n\"\n",
    "                                                f\"You've developed a list of characters, {characters_string}\\n\\n\"                                            \n",
    "                                                f\"Write detailed summaries of all scenes in ACT {i+1} including which characters are in each scenes, start each scene's description with SCENE x\"},\n",
    "                ])['choices'][0]['message']['content']\n",
    "    act_scene_list = this_act_scenes.split(\"SCENE \")\n",
    "    act_scenes.append(act_scene_list)"
   ]
  },
  {
   "cell_type": "markdown",
   "id": "4de97146-4c56-44f9-833c-4a0dee1c36bc",
   "metadata": {},
   "source": [
    "### Generate a list of characters in every scene"
   ]
  },
  {
   "cell_type": "code",
   "execution_count": 254,
   "id": "b530bb1f-4cb3-4721-ac6c-b9df5c8cae4f",
   "metadata": {},
   "outputs": [],
   "source": [
    "act_characters=[]\n",
    "\n",
    "for i in range(5):\n",
    "    act_characters.append(openai.ChatCompletion.create(\n",
    "                model=\"gpt-3.5-turbo\",\n",
    "                messages=[\n",
    "                    {\"role\": \"system\", \"content\": movie_maker},\n",
    "                    {\"role\": \"user\", \"content\": f\"You've written this summary of the act {i+1}: {longer_act_summary[i]}\"\n",
    "                                                f\"You've wrttien the following scene summary for the act as a list of the scenese: {act_scenes[i]}\"\n",
    "                                                f\"You've developed a list of characters, {list_of_characters}\"                                            \n",
    "                                                f\"Write exactly which characters should be in each scene (but only include characters as they are listed in the list of characters above no others, no extras, they will be used in code to look up their descriptions), the answer should be equivalent to a python dicionary with the keys being the scenes in integer format (e.g. 1) and the characters being in a list as the values of the dictionary, the output should be in the format of a python dictionry \"},\n",
    "                ])['choices'][0]['message']['content'])\n",
    "\n"
   ]
  },
  {
   "cell_type": "code",
   "execution_count": 255,
   "id": "3c9c5b47-df91-45a8-9355-eaac16e490f6",
   "metadata": {},
   "outputs": [],
   "source": [
    "def characters_in_this_scene(characters, character_dict):\n",
    "    scene_characters=\"\"\n",
    "    try:\n",
    "        for char in characters[:3]:\n",
    "            # print(' '.join(act_one_characters[i+1]))\n",
    "            if char in character_dict.keys():\n",
    "                scene_characters=f\"{scene_characters} {char} : {character_dict[char]}\"\n",
    "    except:\n",
    "        for char in characters[:3]:\n",
    "            # print(' '.join(act_one_characters[i+1]))\n",
    "            if char in character_dict.keys():\n",
    "                scene_characters=f\"{scene_characters} {char} : {character_dict[char]}\"\n",
    "    \n",
    "    return scene_characters"
   ]
  },
  {
   "cell_type": "markdown",
   "id": "dbc87daf-6cab-49bc-b15e-895d863e355c",
   "metadata": {},
   "source": [
    "### Write and save every scene to disk "
   ]
  },
  {
   "cell_type": "code",
   "execution_count": 257,
   "id": "f5c16e36-58be-447c-adb1-2a2e7c84a1d7",
   "metadata": {},
   "outputs": [],
   "source": [
    "for i in range(5):\n",
    "    this_act_characters=eval(act_characters[i])\n",
    "    for j in range(len(act_scenes[i])-1):\n",
    "        if i==0 and j==0:\n",
    "            \n",
    "            scene_characters=characters_in_this_scene(this_act_characters[j+1] ,character_dict)\n",
    "\n",
    "            scene=openai.ChatCompletion.create(\n",
    "                        model=\"gpt-3.5-turbo\",\n",
    "                        messages=[\n",
    "                            {\"role\": \"system\", \"content\": impersonated_role},\n",
    "                            {\"role\": \"user\", \"content\": f\"You've written this summary of act {i+1} of your movie: {longer_act_summary[i]} \\n\\n\"\n",
    "                                                        f\"Here are the detailed character summaries you prepared for the characters that are in this scene: {scene_characters}  \\n\\n\" \n",
    "                                                        f\"You've wrttien this summary of all the scenes in act {i+1}: {act_scenes[i]} \"\n",
    "                                                        f\"Write the script of scene {j+1} of act {i+1} only (not the full act) in full with dialogue\"\n",
    "                                                        f\"The summary of the scene you are writing is {act_scenes[i][j+1]}\"\n",
    "                                                        f\"Steer away from cliche! The characters are generally laconic.\"\n",
    "                                                        f\"This is the first scene of the movie, make it punchy\"\n",
    "                                                        f\"Feel free to swear and curse at any time. It's a movie for adults.\"},                                          \n",
    "                        ])\n",
    "            with open(f'kaggle_data/first_draft_eotw_act_{i+1}.txt', 'w') as f:\n",
    "                \n",
    "                f.write(f\"{movie_title}\\nACT {i+1} SCENE {j+1}\\n\\n  {scene['choices'][0]['message']['content']}\")\n",
    "            f.close()\n",
    "            previous_scene=scene['choices'][0]['message']['content']\n",
    "\n",
    "        elif j!=0:\n",
    "            scene_characters=characters_in_this_scene(this_act_characters[j+1] ,character_dict)\n",
    "            \n",
    "            scene=openai.ChatCompletion.create(\n",
    "                        model=\"gpt-3.5-turbo\",\n",
    "                        messages=[\n",
    "                            {\"role\": \"system\", \"content\": impersonated_role},\n",
    "                            {\"role\": \"user\", \"content\": \n",
    "                                                        f\"You've written this summary of act {i+1} of your movie: {longer_act_summary[i]}  \\n\\n\"\n",
    "                                                        f\"Here are the detailed character summaries you prepared for the characters that are in this scene: {scene_characters}  \\n\\n\" \n",
    "                                                        f\"Here is the previous scene you already wrote: {previous_scene} \\n\\n\"\n",
    "                                                        f\"Here is the specific summary of the scene you are about to write: {act_scenes[i][j+1]}.\"\n",
    "                                                        f\"Write the script of scene {j+1} of act {i+1} of your movie only (not the full act) in full with dialogue\"\n",
    "                                                        f\"Steer away from cliche! The characters are generally laconic.\"\n",
    "                                                        f\"Feel free to swear and curse at any time. It's a movie for adults.\"},\n",
    "                        ])\n",
    "\n",
    "            with open(f'kaggle_data/first_draft_eotw_act_{i+1}.txt', \"a\") as f:\n",
    "                f.writelines(f\"\\nACT {i+1} SCENE {j+1}\\n  {scene['choices'][0]['message']['content']}\")\n",
    "            f.close()\n",
    "            previous_scene=scene['choices'][0]['message']['content']\n",
    "\n",
    "\n",
    "            \n",
    "        elif j==0:\n",
    "            scene_characters=characters_in_this_scene(this_act_characters[j+1] ,character_dict)\n",
    "            \n",
    "            scene=openai.ChatCompletion.create(\n",
    "                        model=\"gpt-3.5-turbo\",\n",
    "                        messages=[\n",
    "                            {\"role\": \"system\", \"content\": impersonated_role},\n",
    "                            {\"role\": \"user\", \"content\": \n",
    "                                                        f\"You've written this summary of act {i+1} of your movie: {longer_act_summary[i]}  \\n\"\n",
    "                                                        f\"Here is the summary of the previous act {i} of your movie: {longer_act_summary[i-1]}  \\n\"\n",
    "                                                        f\"Here are the detailed character summaries you prepared for the characters that are in the scene you are about to write: {scene_characters}  \\n\" \n",
    "                                                        f\"Here is the previous scene (the last scene of the previous act) that you already wrote: {previous_scene} \\n\"\n",
    "                                                        f\"Here is the specific summary of the scene you are about to write: {act_scenes[i][j+1]}.\"\n",
    "                                                        f\"Write the script of scene {j+1} of act {i+1} of your movie in full with dialogue\"\n",
    "                                                        f\"Steer away from cliche! The characters are generally laconic.\"\n",
    "                                                        f\"Feel free to swear and curse at any time. It's a movie for adults.\"},\n",
    "                        ])\n",
    "\n",
    "            with open(f'kaggle_data/first_draft_eotw_act_{i+1}.txt', \"w\") as f:\n",
    "                f.writelines(f\"{movie_title}\\nACT {i+1} SCENE {j+1}\\n  {scene['choices'][0]['message']['content']}\")\n",
    "            f.close()\n",
    "            previous_scene=scene['choices'][0]['message']['content']\n",
    "\n",
    "\n",
    "            \n",
    "\n",
    "            \n"
   ]
  }
 ],
 "metadata": {
  "environment": {
   "kernel": "python3",
   "name": "common-cpu.m104",
   "type": "gcloud",
   "uri": "gcr.io/deeplearning-platform-release/base-cpu:m104"
  },
  "kernelspec": {
   "display_name": "Python 3",
   "language": "python",
   "name": "python3"
  },
  "language_info": {
   "codemirror_mode": {
    "name": "ipython",
    "version": 3
   },
   "file_extension": ".py",
   "mimetype": "text/x-python",
   "name": "python",
   "nbconvert_exporter": "python",
   "pygments_lexer": "ipython3",
   "version": "3.7.12"
  }
 },
 "nbformat": 4,
 "nbformat_minor": 5
}
